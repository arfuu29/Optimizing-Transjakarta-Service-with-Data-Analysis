{
 "cells": [
  {
   "cell_type": "code",
   "execution_count": null,
   "id": "51e39078",
   "metadata": {},
   "outputs": [],
   "source": [
    "# Link Tableau Public\n",
    "tableau_url = \"https://public.tableau.com/views/TransJakartaDashboard_17528290483210/DashboiardOverview?:language=en-GB&:sid=&:redirect=auth&:display_count=n&:origin=viz_share_link\"\n",
    "\n",
    "print(\"Lihat dashboard Tableau Public di:\", tableau_url)\n"
   ]
  },
  {
   "cell_type": "markdown",
   "id": "3e48eeac",
   "metadata": {},
   "source": []
  }
 ],
 "metadata": {
  "language_info": {
   "name": "python"
  }
 },
 "nbformat": 4,
 "nbformat_minor": 5
}
